{
 "cells": [
  {
   "cell_type": "code",
   "execution_count": 1,
   "id": "98cedff9-0cc4-499c-ab6c-4003089f7d37",
   "metadata": {},
   "outputs": [],
   "source": [
    "import pandas as pd\n",
    "import numpy as np\n",
    "import pickle\n",
    "from xgboost import XGBClassifier\n",
    "from sklearn.model_selection import train_test_split\n",
    "from sklearn.preprocessing import StandardScaler, LabelEncoder, OneHotEncoder, MinMaxScaler\n",
    "from sklearn.pipeline import Pipeline\n",
    "from sklearn.compose import ColumnTransformer"
   ]
  },
  {
   "cell_type": "code",
   "execution_count": 2,
   "id": "212a5073-f01b-4b95-ab44-0ee9f4bd73f7",
   "metadata": {},
   "outputs": [],
   "source": [
    "df_train = pd.read_csv(\"cityu10c_train_dataset.csv\")\n",
    "df_test = pd.read_csv(\"cityu10c_test_dataset.csv\")\n",
    "label_col = \"LoanApproved\""
   ]
  },
  {
   "cell_type": "code",
   "execution_count": 3,
   "id": "cad9517f-2fb5-4cff-910e-c3f96b3df8c5",
   "metadata": {},
   "outputs": [
    {
     "name": "stdout",
     "output_type": "stream",
     "text": [
      "Dự đoán hoàn tất.\n"
     ]
    }
   ],
   "source": [
    "# Xóa các cột không cần thiết\n",
    "df_train.drop(columns=[\"ApplicationDate\"], errors=\"ignore\", inplace=True)\n",
    "df_test.drop(columns=[\"ApplicationDate\"], errors=\"ignore\", inplace=True)\n",
    "\n",
    "# Xử lý giá trị thiếu\n",
    "for col in df_train.columns:\n",
    "    if df_train[col].dtype == \"object\":\n",
    "        df_train[col] = df_train[col].fillna(df_train[col].mode()[0])\n",
    "    else:\n",
    "        df_train[col] = df_train[col].fillna(df_train[col].median())\n",
    "\n",
    "for col in df_test.columns:\n",
    "    if df_test[col].dtype == \"object\":\n",
    "        df_test[col] = df_test[col].fillna(df_test[col].mode()[0])\n",
    "    else:\n",
    "        df_test[col] = df_test[col].fillna(df_test[col].median())\n",
    "\n",
    "# Định nghĩa cột số và cột phân loại\n",
    "categorical_features = [\"EmploymentStatus\", \"EducationLevel\", \"MaritalStatus\", \"HomeOwnershipStatus\", \"LoanPurpose\"]\n",
    "numerical_features = [\"Age\", \"AnnualIncome\", \"CreditScore\", \"LoanAmount\", \"LoanDuration\"]\n",
    "\n",
    "# Xây dựng pipeline xử lý dữ liệu\n",
    "numerical_transformer = Pipeline(steps=[\n",
    "    ('scaler', MinMaxScaler())\n",
    "])\n",
    "\n",
    "categorical_transformer = Pipeline(steps=[\n",
    "    ('onehot', OneHotEncoder(sparse_output=False, handle_unknown='ignore'))\n",
    "])\n",
    "\n",
    "preprocessor = ColumnTransformer(\n",
    "    transformers=[\n",
    "        ('num', numerical_transformer, numerical_features),\n",
    "        ('cat', categorical_transformer, categorical_features)\n",
    "    ])\n",
    "\n",
    "# Tạo pipeline mô hình\n",
    "pipeline = Pipeline(steps=[\n",
    "    ('preprocessor', preprocessor),\n",
    "    ('classifier', XGBClassifier(random_state=42))\n",
    "])\n",
    "\n",
    "# Chia dữ liệu train và validation\n",
    "X = df_train.drop(columns=[label_col])\n",
    "y = df_train[label_col]\n",
    "X_train, X_val, y_train, y_val = train_test_split(X, y, test_size=0.2, random_state=42)\n",
    "\n",
    "# Huấn luyện mô hình\n",
    "pipeline.fit(X_train, y_train)\n",
    "\n",
    "# Lưu pipeline vào file\n",
    "with open('xgboost_pipeline.pkl', 'wb') as file:\n",
    "    pickle.dump(pipeline, file)\n",
    "\n",
    "# Dự đoán trên tập test\n",
    "df_test_pred = pipeline.predict(df_test.drop(columns=[\"ID\"], errors=\"ignore\"))\n",
    "\n",
    "# Xuất file kết quả\n",
    "df_test_ids = df_test[\"ID\"]\n",
    "submission = pd.DataFrame({\"ID\": df_test_ids, \"LoanApproved\": df_test_pred})\n",
    "submission.to_csv(\"submission.csv\", index=False)\n",
    "\n",
    "print(\"Dự đoán hoàn tất.\")\n"
   ]
  },
  {
   "cell_type": "code",
   "execution_count": null,
   "id": "2a9f4912-dcf2-4714-b65f-af0e6f96d380",
   "metadata": {},
   "outputs": [],
   "source": []
  }
 ],
 "metadata": {
  "kernelspec": {
   "display_name": "Python 3 (ipykernel)",
   "language": "python",
   "name": "python3"
  },
  "language_info": {
   "codemirror_mode": {
    "name": "ipython",
    "version": 3
   },
   "file_extension": ".py",
   "mimetype": "text/x-python",
   "name": "python",
   "nbconvert_exporter": "python",
   "pygments_lexer": "ipython3",
   "version": "3.12.4"
  }
 },
 "nbformat": 4,
 "nbformat_minor": 5
}
